{
 "cells": [
  {
   "cell_type": "code",
   "execution_count": 1,
   "id": "82edeb04",
   "metadata": {},
   "outputs": [],
   "source": [
    "import numpy as np\n",
    "import pandas as pd\n",
    "import matplotlib.pyplot as plt"
   ]
  },
  {
   "cell_type": "code",
   "execution_count": 2,
   "id": "203583d9",
   "metadata": {},
   "outputs": [],
   "source": [
    "df = pd.read_csv('dataset_combined.csv')"
   ]
  },
  {
   "cell_type": "code",
   "execution_count": 3,
   "id": "5106314a",
   "metadata": {},
   "outputs": [],
   "source": [
    "df.head()\n",
    "df2 = df"
   ]
  },
  {
   "cell_type": "code",
   "execution_count": 4,
   "id": "848c0750",
   "metadata": {},
   "outputs": [],
   "source": [
    "df = df.drop(columns=\"Name\")"
   ]
  },
  {
   "cell_type": "code",
   "execution_count": 5,
   "id": "4281bfbc",
   "metadata": {},
   "outputs": [
    {
     "data": {
      "text/html": [
       "<div>\n",
       "<style scoped>\n",
       "    .dataframe tbody tr th:only-of-type {\n",
       "        vertical-align: middle;\n",
       "    }\n",
       "\n",
       "    .dataframe tbody tr th {\n",
       "        vertical-align: top;\n",
       "    }\n",
       "\n",
       "    .dataframe thead th {\n",
       "        text-align: right;\n",
       "    }\n",
       "</style>\n",
       "<table border=\"1\" class=\"dataframe\">\n",
       "  <thead>\n",
       "    <tr style=\"text-align: right;\">\n",
       "      <th></th>\n",
       "      <th>Education Qualification</th>\n",
       "      <th>Gender</th>\n",
       "      <th>Community</th>\n",
       "      <th>Religion</th>\n",
       "      <th>Exservice-men</th>\n",
       "      <th>Disability</th>\n",
       "      <th>Sports</th>\n",
       "      <th>Annual-Percentage</th>\n",
       "      <th>Income</th>\n",
       "      <th>India</th>\n",
       "      <th>Outcome</th>\n",
       "    </tr>\n",
       "  </thead>\n",
       "  <tbody>\n",
       "    <tr>\n",
       "      <th>0</th>\n",
       "      <td>Undergraduate</td>\n",
       "      <td>Male</td>\n",
       "      <td>General</td>\n",
       "      <td>Hindu</td>\n",
       "      <td>Yes</td>\n",
       "      <td>Yes</td>\n",
       "      <td>Yes</td>\n",
       "      <td>90-100</td>\n",
       "      <td>Upto 1.5L</td>\n",
       "      <td>In</td>\n",
       "      <td>1</td>\n",
       "    </tr>\n",
       "    <tr>\n",
       "      <th>1</th>\n",
       "      <td>Undergraduate</td>\n",
       "      <td>Male</td>\n",
       "      <td>General</td>\n",
       "      <td>Hindu</td>\n",
       "      <td>Yes</td>\n",
       "      <td>Yes</td>\n",
       "      <td>No</td>\n",
       "      <td>90-100</td>\n",
       "      <td>Upto 1.5L</td>\n",
       "      <td>In</td>\n",
       "      <td>1</td>\n",
       "    </tr>\n",
       "    <tr>\n",
       "      <th>2</th>\n",
       "      <td>Undergraduate</td>\n",
       "      <td>Male</td>\n",
       "      <td>General</td>\n",
       "      <td>Muslim</td>\n",
       "      <td>Yes</td>\n",
       "      <td>Yes</td>\n",
       "      <td>Yes</td>\n",
       "      <td>90-100</td>\n",
       "      <td>Upto 1.5L</td>\n",
       "      <td>In</td>\n",
       "      <td>1</td>\n",
       "    </tr>\n",
       "    <tr>\n",
       "      <th>3</th>\n",
       "      <td>Undergraduate</td>\n",
       "      <td>Male</td>\n",
       "      <td>General</td>\n",
       "      <td>Muslim</td>\n",
       "      <td>Yes</td>\n",
       "      <td>Yes</td>\n",
       "      <td>No</td>\n",
       "      <td>90-100</td>\n",
       "      <td>Upto 1.5L</td>\n",
       "      <td>In</td>\n",
       "      <td>1</td>\n",
       "    </tr>\n",
       "    <tr>\n",
       "      <th>4</th>\n",
       "      <td>Undergraduate</td>\n",
       "      <td>Male</td>\n",
       "      <td>General</td>\n",
       "      <td>Chirstian</td>\n",
       "      <td>Yes</td>\n",
       "      <td>Yes</td>\n",
       "      <td>Yes</td>\n",
       "      <td>90-100</td>\n",
       "      <td>Upto 1.5L</td>\n",
       "      <td>In</td>\n",
       "      <td>1</td>\n",
       "    </tr>\n",
       "    <tr>\n",
       "      <th>...</th>\n",
       "      <td>...</td>\n",
       "      <td>...</td>\n",
       "      <td>...</td>\n",
       "      <td>...</td>\n",
       "      <td>...</td>\n",
       "      <td>...</td>\n",
       "      <td>...</td>\n",
       "      <td>...</td>\n",
       "      <td>...</td>\n",
       "      <td>...</td>\n",
       "      <td>...</td>\n",
       "    </tr>\n",
       "    <tr>\n",
       "      <th>245755</th>\n",
       "      <td>Doctrate</td>\n",
       "      <td>Female</td>\n",
       "      <td>Minority</td>\n",
       "      <td>Muslim</td>\n",
       "      <td>No</td>\n",
       "      <td>No</td>\n",
       "      <td>No</td>\n",
       "      <td>60-70</td>\n",
       "      <td>Above 6L</td>\n",
       "      <td>Out</td>\n",
       "      <td>1</td>\n",
       "    </tr>\n",
       "    <tr>\n",
       "      <th>245756</th>\n",
       "      <td>Doctrate</td>\n",
       "      <td>Female</td>\n",
       "      <td>Minority</td>\n",
       "      <td>Chirstian</td>\n",
       "      <td>No</td>\n",
       "      <td>No</td>\n",
       "      <td>Yes</td>\n",
       "      <td>60-70</td>\n",
       "      <td>Above 6L</td>\n",
       "      <td>Out</td>\n",
       "      <td>1</td>\n",
       "    </tr>\n",
       "    <tr>\n",
       "      <th>245757</th>\n",
       "      <td>Doctrate</td>\n",
       "      <td>Female</td>\n",
       "      <td>Minority</td>\n",
       "      <td>Chirstian</td>\n",
       "      <td>No</td>\n",
       "      <td>No</td>\n",
       "      <td>No</td>\n",
       "      <td>60-70</td>\n",
       "      <td>Above 6L</td>\n",
       "      <td>Out</td>\n",
       "      <td>1</td>\n",
       "    </tr>\n",
       "    <tr>\n",
       "      <th>245758</th>\n",
       "      <td>Doctrate</td>\n",
       "      <td>Female</td>\n",
       "      <td>Minority</td>\n",
       "      <td>Others</td>\n",
       "      <td>No</td>\n",
       "      <td>No</td>\n",
       "      <td>Yes</td>\n",
       "      <td>60-70</td>\n",
       "      <td>Above 6L</td>\n",
       "      <td>Out</td>\n",
       "      <td>1</td>\n",
       "    </tr>\n",
       "    <tr>\n",
       "      <th>245759</th>\n",
       "      <td>Doctrate</td>\n",
       "      <td>Female</td>\n",
       "      <td>Minority</td>\n",
       "      <td>Others</td>\n",
       "      <td>No</td>\n",
       "      <td>No</td>\n",
       "      <td>No</td>\n",
       "      <td>60-70</td>\n",
       "      <td>Above 6L</td>\n",
       "      <td>Out</td>\n",
       "      <td>1</td>\n",
       "    </tr>\n",
       "  </tbody>\n",
       "</table>\n",
       "<p>245760 rows × 11 columns</p>\n",
       "</div>"
      ],
      "text/plain": [
       "       Education Qualification  Gender Community   Religion Exservice-men  \\\n",
       "0                Undergraduate    Male   General      Hindu           Yes   \n",
       "1                Undergraduate    Male   General      Hindu           Yes   \n",
       "2                Undergraduate    Male   General     Muslim           Yes   \n",
       "3                Undergraduate    Male   General     Muslim           Yes   \n",
       "4                Undergraduate    Male   General  Chirstian           Yes   \n",
       "...                        ...     ...       ...        ...           ...   \n",
       "245755                Doctrate  Female  Minority     Muslim            No   \n",
       "245756                Doctrate  Female  Minority  Chirstian            No   \n",
       "245757                Doctrate  Female  Minority  Chirstian            No   \n",
       "245758                Doctrate  Female  Minority     Others            No   \n",
       "245759                Doctrate  Female  Minority     Others            No   \n",
       "\n",
       "       Disability Sports Annual-Percentage     Income India  Outcome  \n",
       "0             Yes    Yes            90-100  Upto 1.5L    In        1  \n",
       "1             Yes     No            90-100  Upto 1.5L    In        1  \n",
       "2             Yes    Yes            90-100  Upto 1.5L    In        1  \n",
       "3             Yes     No            90-100  Upto 1.5L    In        1  \n",
       "4             Yes    Yes            90-100  Upto 1.5L    In        1  \n",
       "...           ...    ...               ...        ...   ...      ...  \n",
       "245755         No     No             60-70   Above 6L   Out        1  \n",
       "245756         No    Yes             60-70   Above 6L   Out        1  \n",
       "245757         No     No             60-70   Above 6L   Out        1  \n",
       "245758         No    Yes             60-70   Above 6L   Out        1  \n",
       "245759         No     No             60-70   Above 6L   Out        1  \n",
       "\n",
       "[245760 rows x 11 columns]"
      ]
     },
     "execution_count": 5,
     "metadata": {},
     "output_type": "execute_result"
    }
   ],
   "source": [
    "df"
   ]
  },
  {
   "cell_type": "code",
   "execution_count": 6,
   "id": "04103425",
   "metadata": {},
   "outputs": [],
   "source": [
    "dict = {\"Undergraduate\":1,\n",
    "\"Postgraduate\":2,\n",
    "\"Doctrate\":3 }\n",
    "df['Education Qualification'] = df['Education Qualification'].map(dict)"
   ]
  },
  {
   "cell_type": "code",
   "execution_count": 7,
   "id": "49f98efb",
   "metadata": {},
   "outputs": [],
   "source": [
    "dict = {\"General\":1,\n",
    "\"OBC\":2,\n",
    "\"ST/SC\":3,\n",
    "\"Minority\":4}\n",
    "df['Community'] = df['Community'].map(dict)"
   ]
  },
  {
   "cell_type": "code",
   "execution_count": 8,
   "id": "78d4aff5",
   "metadata": {},
   "outputs": [],
   "source": [
    "dict = {\"Hindu\":1,\n",
    "\"Muslim\":2,\n",
    "\"Chirstian\":3,\n",
    "\"Others\":4}\n",
    "df['Religion'] = df['Religion'].map(dict)"
   ]
  },
  {
   "cell_type": "code",
   "execution_count": 9,
   "id": "b54f349c",
   "metadata": {},
   "outputs": [],
   "source": [
    "dict = {\"90-100\":1,\n",
    "\"80-90\":2,\n",
    "\"70-80\":3,\n",
    "\"60-70\":4}\n",
    "df['Annual-Percentage'] = df['Annual-Percentage'].map(dict)"
   ]
  },
  {
   "cell_type": "code",
   "execution_count": 10,
   "id": "f5221174",
   "metadata": {},
   "outputs": [],
   "source": [
    "dict = {\"Upto 1.5L\":1,\n",
    "\"1.5L to 3L\":2,\n",
    "\"3L to 6L\":3, \n",
    "\"Above 6L\":4}\n",
    "df['Income'] = df['Income'].map(dict)"
   ]
  },
  {
   "cell_type": "code",
   "execution_count": 11,
   "id": "3518dc02",
   "metadata": {},
   "outputs": [],
   "source": [
    "dict = {\"Male\":1,\n",
    "\"Female\":2}\n",
    "df['Gender'] = df['Gender'].map(dict)"
   ]
  },
  {
   "cell_type": "code",
   "execution_count": 12,
   "id": "383010bd",
   "metadata": {},
   "outputs": [],
   "source": [
    "dict = {\"Yes\":1,\n",
    "\"No\":2}\n",
    "df['Exservice-men'] = df['Exservice-men'].map(dict)"
   ]
  },
  {
   "cell_type": "code",
   "execution_count": 13,
   "id": "9d3fa47d",
   "metadata": {},
   "outputs": [],
   "source": [
    "dict = {\"Yes\":1,\n",
    "\"No\":2}\n",
    "df['Disability'] = df['Disability'].map(dict)"
   ]
  },
  {
   "cell_type": "code",
   "execution_count": 14,
   "id": "07e34448",
   "metadata": {},
   "outputs": [],
   "source": [
    "dict = {\"Yes\":1,\n",
    "\"No\":2}\n",
    "df['Sports'] = df['Sports'].map(dict)"
   ]
  },
  {
   "cell_type": "code",
   "execution_count": 15,
   "id": "e9763337",
   "metadata": {},
   "outputs": [],
   "source": [
    "dict = {\"In\":1,\n",
    "\"Out\":2}\n",
    "df['India'] = df['India'].map(dict)"
   ]
  },
  {
   "cell_type": "code",
   "execution_count": 16,
   "id": "4c3ceb4c",
   "metadata": {},
   "outputs": [
    {
     "data": {
      "text/plain": [
       "(245760, 11)"
      ]
     },
     "execution_count": 16,
     "metadata": {},
     "output_type": "execute_result"
    }
   ],
   "source": [
    "df.shape"
   ]
  },
  {
   "cell_type": "code",
   "execution_count": 17,
   "id": "506fda9b",
   "metadata": {},
   "outputs": [
    {
     "data": {
      "text/html": [
       "<div>\n",
       "<style scoped>\n",
       "    .dataframe tbody tr th:only-of-type {\n",
       "        vertical-align: middle;\n",
       "    }\n",
       "\n",
       "    .dataframe tbody tr th {\n",
       "        vertical-align: top;\n",
       "    }\n",
       "\n",
       "    .dataframe thead th {\n",
       "        text-align: right;\n",
       "    }\n",
       "</style>\n",
       "<table border=\"1\" class=\"dataframe\">\n",
       "  <thead>\n",
       "    <tr style=\"text-align: right;\">\n",
       "      <th></th>\n",
       "      <th>Education Qualification</th>\n",
       "      <th>Gender</th>\n",
       "      <th>Community</th>\n",
       "      <th>Religion</th>\n",
       "      <th>Exservice-men</th>\n",
       "      <th>Disability</th>\n",
       "      <th>Sports</th>\n",
       "      <th>Annual-Percentage</th>\n",
       "      <th>Income</th>\n",
       "      <th>India</th>\n",
       "      <th>Outcome</th>\n",
       "    </tr>\n",
       "  </thead>\n",
       "  <tbody>\n",
       "    <tr>\n",
       "      <th>0</th>\n",
       "      <td>1</td>\n",
       "      <td>1</td>\n",
       "      <td>1.0</td>\n",
       "      <td>1</td>\n",
       "      <td>1</td>\n",
       "      <td>1</td>\n",
       "      <td>1</td>\n",
       "      <td>1</td>\n",
       "      <td>1</td>\n",
       "      <td>1</td>\n",
       "      <td>1</td>\n",
       "    </tr>\n",
       "    <tr>\n",
       "      <th>1</th>\n",
       "      <td>1</td>\n",
       "      <td>1</td>\n",
       "      <td>1.0</td>\n",
       "      <td>1</td>\n",
       "      <td>1</td>\n",
       "      <td>1</td>\n",
       "      <td>2</td>\n",
       "      <td>1</td>\n",
       "      <td>1</td>\n",
       "      <td>1</td>\n",
       "      <td>1</td>\n",
       "    </tr>\n",
       "    <tr>\n",
       "      <th>2</th>\n",
       "      <td>1</td>\n",
       "      <td>1</td>\n",
       "      <td>1.0</td>\n",
       "      <td>2</td>\n",
       "      <td>1</td>\n",
       "      <td>1</td>\n",
       "      <td>1</td>\n",
       "      <td>1</td>\n",
       "      <td>1</td>\n",
       "      <td>1</td>\n",
       "      <td>1</td>\n",
       "    </tr>\n",
       "    <tr>\n",
       "      <th>3</th>\n",
       "      <td>1</td>\n",
       "      <td>1</td>\n",
       "      <td>1.0</td>\n",
       "      <td>2</td>\n",
       "      <td>1</td>\n",
       "      <td>1</td>\n",
       "      <td>2</td>\n",
       "      <td>1</td>\n",
       "      <td>1</td>\n",
       "      <td>1</td>\n",
       "      <td>1</td>\n",
       "    </tr>\n",
       "    <tr>\n",
       "      <th>4</th>\n",
       "      <td>1</td>\n",
       "      <td>1</td>\n",
       "      <td>1.0</td>\n",
       "      <td>3</td>\n",
       "      <td>1</td>\n",
       "      <td>1</td>\n",
       "      <td>1</td>\n",
       "      <td>1</td>\n",
       "      <td>1</td>\n",
       "      <td>1</td>\n",
       "      <td>1</td>\n",
       "    </tr>\n",
       "    <tr>\n",
       "      <th>...</th>\n",
       "      <td>...</td>\n",
       "      <td>...</td>\n",
       "      <td>...</td>\n",
       "      <td>...</td>\n",
       "      <td>...</td>\n",
       "      <td>...</td>\n",
       "      <td>...</td>\n",
       "      <td>...</td>\n",
       "      <td>...</td>\n",
       "      <td>...</td>\n",
       "      <td>...</td>\n",
       "    </tr>\n",
       "    <tr>\n",
       "      <th>245755</th>\n",
       "      <td>3</td>\n",
       "      <td>2</td>\n",
       "      <td>4.0</td>\n",
       "      <td>2</td>\n",
       "      <td>2</td>\n",
       "      <td>2</td>\n",
       "      <td>2</td>\n",
       "      <td>4</td>\n",
       "      <td>4</td>\n",
       "      <td>2</td>\n",
       "      <td>1</td>\n",
       "    </tr>\n",
       "    <tr>\n",
       "      <th>245756</th>\n",
       "      <td>3</td>\n",
       "      <td>2</td>\n",
       "      <td>4.0</td>\n",
       "      <td>3</td>\n",
       "      <td>2</td>\n",
       "      <td>2</td>\n",
       "      <td>1</td>\n",
       "      <td>4</td>\n",
       "      <td>4</td>\n",
       "      <td>2</td>\n",
       "      <td>1</td>\n",
       "    </tr>\n",
       "    <tr>\n",
       "      <th>245757</th>\n",
       "      <td>3</td>\n",
       "      <td>2</td>\n",
       "      <td>4.0</td>\n",
       "      <td>3</td>\n",
       "      <td>2</td>\n",
       "      <td>2</td>\n",
       "      <td>2</td>\n",
       "      <td>4</td>\n",
       "      <td>4</td>\n",
       "      <td>2</td>\n",
       "      <td>1</td>\n",
       "    </tr>\n",
       "    <tr>\n",
       "      <th>245758</th>\n",
       "      <td>3</td>\n",
       "      <td>2</td>\n",
       "      <td>4.0</td>\n",
       "      <td>4</td>\n",
       "      <td>2</td>\n",
       "      <td>2</td>\n",
       "      <td>1</td>\n",
       "      <td>4</td>\n",
       "      <td>4</td>\n",
       "      <td>2</td>\n",
       "      <td>1</td>\n",
       "    </tr>\n",
       "    <tr>\n",
       "      <th>245759</th>\n",
       "      <td>3</td>\n",
       "      <td>2</td>\n",
       "      <td>4.0</td>\n",
       "      <td>4</td>\n",
       "      <td>2</td>\n",
       "      <td>2</td>\n",
       "      <td>2</td>\n",
       "      <td>4</td>\n",
       "      <td>4</td>\n",
       "      <td>2</td>\n",
       "      <td>1</td>\n",
       "    </tr>\n",
       "  </tbody>\n",
       "</table>\n",
       "<p>245760 rows × 11 columns</p>\n",
       "</div>"
      ],
      "text/plain": [
       "        Education Qualification  Gender  Community  Religion  Exservice-men  \\\n",
       "0                             1       1        1.0         1              1   \n",
       "1                             1       1        1.0         1              1   \n",
       "2                             1       1        1.0         2              1   \n",
       "3                             1       1        1.0         2              1   \n",
       "4                             1       1        1.0         3              1   \n",
       "...                         ...     ...        ...       ...            ...   \n",
       "245755                        3       2        4.0         2              2   \n",
       "245756                        3       2        4.0         3              2   \n",
       "245757                        3       2        4.0         3              2   \n",
       "245758                        3       2        4.0         4              2   \n",
       "245759                        3       2        4.0         4              2   \n",
       "\n",
       "        Disability  Sports  Annual-Percentage  Income  India  Outcome  \n",
       "0                1       1                  1       1      1        1  \n",
       "1                1       2                  1       1      1        1  \n",
       "2                1       1                  1       1      1        1  \n",
       "3                1       2                  1       1      1        1  \n",
       "4                1       1                  1       1      1        1  \n",
       "...            ...     ...                ...     ...    ...      ...  \n",
       "245755           2       2                  4       4      2        1  \n",
       "245756           2       1                  4       4      2        1  \n",
       "245757           2       2                  4       4      2        1  \n",
       "245758           2       1                  4       4      2        1  \n",
       "245759           2       2                  4       4      2        1  \n",
       "\n",
       "[245760 rows x 11 columns]"
      ]
     },
     "execution_count": 17,
     "metadata": {},
     "output_type": "execute_result"
    }
   ],
   "source": [
    "df"
   ]
  },
  {
   "cell_type": "code",
   "execution_count": 18,
   "id": "cb00b785",
   "metadata": {},
   "outputs": [
    {
     "name": "stdout",
     "output_type": "stream",
     "text": [
      "<class 'pandas.core.frame.DataFrame'>\n",
      "RangeIndex: 245760 entries, 0 to 245759\n",
      "Data columns (total 11 columns):\n",
      " #   Column                   Non-Null Count   Dtype  \n",
      "---  ------                   --------------   -----  \n",
      " 0   Education Qualification  245760 non-null  int64  \n",
      " 1   Gender                   245760 non-null  int64  \n",
      " 2   Community                184320 non-null  float64\n",
      " 3   Religion                 245760 non-null  int64  \n",
      " 4   Exservice-men            245760 non-null  int64  \n",
      " 5   Disability               245760 non-null  int64  \n",
      " 6   Sports                   245760 non-null  int64  \n",
      " 7   Annual-Percentage        245760 non-null  int64  \n",
      " 8   Income                   245760 non-null  int64  \n",
      " 9   India                    245760 non-null  int64  \n",
      " 10  Outcome                  245760 non-null  int64  \n",
      "dtypes: float64(1), int64(10)\n",
      "memory usage: 20.6 MB\n"
     ]
    }
   ],
   "source": [
    "df.info()"
   ]
  },
  {
   "cell_type": "code",
   "execution_count": 19,
   "id": "821a81b7",
   "metadata": {},
   "outputs": [],
   "source": [
    "df.dropna(inplace=True)"
   ]
  },
  {
   "cell_type": "code",
   "execution_count": 20,
   "id": "29811be2",
   "metadata": {},
   "outputs": [],
   "source": [
    "df['Education Qualification'] = df['Education Qualification'].astype('int32')\n",
    "df['Community'] = df['Community'].astype('float32')\n",
    "df['Religion'] = df['Religion'].astype('int32')\n",
    "df['Annual-Percentage'] = df['Annual-Percentage'].astype('int32')\n",
    "df['Income'] = df['Income'].astype('int32')\n",
    "df['Gender'] = df['Gender'].astype('int32')\n",
    "df['Exservice-men'] = df['Exservice-men'].astype('int32')\n",
    "df['Disability'] = df['Disability'].astype('int32')\n",
    "df['Sports'] = df['Sports'].astype('int32')\n",
    "df['India'] = df['India'].astype('int32')\n",
    "df['Outcome'] = df['Outcome'].astype('int32')\n"
   ]
  },
  {
   "cell_type": "code",
   "execution_count": 21,
   "id": "5651ef43",
   "metadata": {},
   "outputs": [
    {
     "name": "stdout",
     "output_type": "stream",
     "text": [
      "<class 'pandas.core.frame.DataFrame'>\n",
      "Index: 184320 entries, 0 to 245759\n",
      "Data columns (total 11 columns):\n",
      " #   Column                   Non-Null Count   Dtype  \n",
      "---  ------                   --------------   -----  \n",
      " 0   Education Qualification  184320 non-null  int32  \n",
      " 1   Gender                   184320 non-null  int32  \n",
      " 2   Community                184320 non-null  float32\n",
      " 3   Religion                 184320 non-null  int32  \n",
      " 4   Exservice-men            184320 non-null  int32  \n",
      " 5   Disability               184320 non-null  int32  \n",
      " 6   Sports                   184320 non-null  int32  \n",
      " 7   Annual-Percentage        184320 non-null  int32  \n",
      " 8   Income                   184320 non-null  int32  \n",
      " 9   India                    184320 non-null  int32  \n",
      " 10  Outcome                  184320 non-null  int32  \n",
      "dtypes: float32(1), int32(10)\n",
      "memory usage: 9.1 MB\n"
     ]
    }
   ],
   "source": [
    "df.info()"
   ]
  },
  {
   "cell_type": "code",
   "execution_count": 22,
   "id": "75278ddd",
   "metadata": {},
   "outputs": [],
   "source": [
    "x = df.drop('Outcome',axis=1)\n",
    "y = df[['Outcome']]"
   ]
  },
  {
   "cell_type": "code",
   "execution_count": null,
   "id": "0305443b",
   "metadata": {},
   "outputs": [],
   "source": []
  },
  {
   "cell_type": "code",
   "execution_count": 23,
   "id": "eefe566c",
   "metadata": {},
   "outputs": [],
   "source": [
    "from sklearn.model_selection import train_test_split\n",
    "\n",
    "x_train,x_test,y_train,y_test = train_test_split(x,y,test_size=0.15)"
   ]
  },
  {
   "cell_type": "code",
   "execution_count": 24,
   "id": "79918dac",
   "metadata": {},
   "outputs": [
    {
     "name": "stderr",
     "output_type": "stream",
     "text": [
      "c:\\Python312\\Lib\\site-packages\\sklearn\\base.py:1473: DataConversionWarning: A column-vector y was passed when a 1d array was expected. Please change the shape of y to (n_samples,), for example using ravel().\n",
      "  return fit_method(estimator, *args, **kwargs)\n"
     ]
    },
    {
     "name": "stdout",
     "output_type": "stream",
     "text": [
      "87.90977328431373\n",
      "86.1328125\n"
     ]
    }
   ],
   "source": [
    "from sklearn.ensemble import RandomForestClassifier\n",
    "\n",
    "rdf = RandomForestClassifier()\n",
    "\n",
    "rdf.fit(x_train,y_train)\n",
    "\n",
    "print(rdf.score(x_train,y_train)*100)\n",
    "print(rdf.score(x_test,y_test)*100)"
   ]
  },
  {
   "cell_type": "code",
   "execution_count": 25,
   "id": "901cb176",
   "metadata": {},
   "outputs": [],
   "source": [
    "pred = rdf.predict(x_test)\n",
    "y_test['prediction']=pred"
   ]
  },
  {
   "cell_type": "code",
   "execution_count": 35,
   "id": "cb73c0c5",
   "metadata": {},
   "outputs": [
    {
     "data": {
      "text/plain": [
       "['rdf.lb']"
      ]
     },
     "execution_count": 35,
     "metadata": {},
     "output_type": "execute_result"
    }
   ],
   "source": [
    "import joblib\n",
    "joblib.dump(df2,\"df2.lb\")\n",
    "joblib.dump(rdf,'rdf.lb')"
   ]
  },
  {
   "cell_type": "code",
   "execution_count": 27,
   "id": "7e158c25",
   "metadata": {},
   "outputs": [
    {
     "name": "stdout",
     "output_type": "stream",
     "text": [
      "<class 'pandas.core.frame.DataFrame'>\n",
      "Index: 184320 entries, 0 to 245759\n",
      "Data columns (total 11 columns):\n",
      " #   Column                   Non-Null Count   Dtype  \n",
      "---  ------                   --------------   -----  \n",
      " 0   Education Qualification  184320 non-null  int32  \n",
      " 1   Gender                   184320 non-null  int32  \n",
      " 2   Community                184320 non-null  float32\n",
      " 3   Religion                 184320 non-null  int32  \n",
      " 4   Exservice-men            184320 non-null  int32  \n",
      " 5   Disability               184320 non-null  int32  \n",
      " 6   Sports                   184320 non-null  int32  \n",
      " 7   Annual-Percentage        184320 non-null  int32  \n",
      " 8   Income                   184320 non-null  int32  \n",
      " 9   India                    184320 non-null  int32  \n",
      " 10  Outcome                  184320 non-null  int32  \n",
      "dtypes: float32(1), int32(10)\n",
      "memory usage: 9.1 MB\n"
     ]
    }
   ],
   "source": [
    "df.info()"
   ]
  },
  {
   "cell_type": "code",
   "execution_count": 36,
   "id": "9cb5e93f",
   "metadata": {},
   "outputs": [
    {
     "data": {
      "text/plain": [
       "Index(['Education Qualification', 'Gender', 'Community', 'Religion',\n",
       "       'Exservice-men', 'Disability', 'Sports', 'Annual-Percentage', 'Income',\n",
       "       'India'],\n",
       "      dtype='object')"
      ]
     },
     "execution_count": 36,
     "metadata": {},
     "output_type": "execute_result"
    }
   ],
   "source": [
    "x_test.columns"
   ]
  },
  {
   "cell_type": "code",
   "execution_count": 28,
   "id": "e0d53e2d",
   "metadata": {},
   "outputs": [
    {
     "data": {
      "text/plain": [
       "Education Qualification    0\n",
       "Gender                     0\n",
       "Community                  0\n",
       "Religion                   0\n",
       "Exservice-men              0\n",
       "Disability                 0\n",
       "Sports                     0\n",
       "Annual-Percentage          0\n",
       "Income                     0\n",
       "India                      0\n",
       "Outcome                    0\n",
       "dtype: int64"
      ]
     },
     "execution_count": 28,
     "metadata": {},
     "output_type": "execute_result"
    }
   ],
   "source": [
    "df.isnull().sum()"
   ]
  },
  {
   "cell_type": "code",
   "execution_count": 29,
   "id": "b0d291d0",
   "metadata": {},
   "outputs": [],
   "source": [
    "df.dropna(inplace=True)"
   ]
  },
  {
   "cell_type": "code",
   "execution_count": 30,
   "id": "d8f72001",
   "metadata": {},
   "outputs": [
    {
     "data": {
      "text/html": [
       "<div>\n",
       "<style scoped>\n",
       "    .dataframe tbody tr th:only-of-type {\n",
       "        vertical-align: middle;\n",
       "    }\n",
       "\n",
       "    .dataframe tbody tr th {\n",
       "        vertical-align: top;\n",
       "    }\n",
       "\n",
       "    .dataframe thead th {\n",
       "        text-align: right;\n",
       "    }\n",
       "</style>\n",
       "<table border=\"1\" class=\"dataframe\">\n",
       "  <thead>\n",
       "    <tr style=\"text-align: right;\">\n",
       "      <th></th>\n",
       "      <th>Education Qualification</th>\n",
       "      <th>Gender</th>\n",
       "      <th>Community</th>\n",
       "      <th>Religion</th>\n",
       "      <th>Exservice-men</th>\n",
       "      <th>Disability</th>\n",
       "      <th>Sports</th>\n",
       "      <th>Annual-Percentage</th>\n",
       "      <th>Income</th>\n",
       "      <th>India</th>\n",
       "    </tr>\n",
       "  </thead>\n",
       "  <tbody>\n",
       "    <tr>\n",
       "      <th>164516</th>\n",
       "      <td>2</td>\n",
       "      <td>1</td>\n",
       "      <td>4.0</td>\n",
       "      <td>3</td>\n",
       "      <td>1</td>\n",
       "      <td>1</td>\n",
       "      <td>1</td>\n",
       "      <td>3</td>\n",
       "      <td>3</td>\n",
       "      <td>1</td>\n",
       "    </tr>\n",
       "    <tr>\n",
       "      <th>210856</th>\n",
       "      <td>1</td>\n",
       "      <td>1</td>\n",
       "      <td>2.0</td>\n",
       "      <td>1</td>\n",
       "      <td>2</td>\n",
       "      <td>1</td>\n",
       "      <td>1</td>\n",
       "      <td>3</td>\n",
       "      <td>3</td>\n",
       "      <td>2</td>\n",
       "    </tr>\n",
       "    <tr>\n",
       "      <th>159709</th>\n",
       "      <td>3</td>\n",
       "      <td>2</td>\n",
       "      <td>4.0</td>\n",
       "      <td>3</td>\n",
       "      <td>2</td>\n",
       "      <td>2</td>\n",
       "      <td>2</td>\n",
       "      <td>2</td>\n",
       "      <td>2</td>\n",
       "      <td>2</td>\n",
       "    </tr>\n",
       "    <tr>\n",
       "      <th>97048</th>\n",
       "      <td>3</td>\n",
       "      <td>1</td>\n",
       "      <td>4.0</td>\n",
       "      <td>1</td>\n",
       "      <td>1</td>\n",
       "      <td>1</td>\n",
       "      <td>1</td>\n",
       "      <td>4</td>\n",
       "      <td>2</td>\n",
       "      <td>2</td>\n",
       "    </tr>\n",
       "    <tr>\n",
       "      <th>86510</th>\n",
       "      <td>1</td>\n",
       "      <td>2</td>\n",
       "      <td>1.0</td>\n",
       "      <td>4</td>\n",
       "      <td>2</td>\n",
       "      <td>1</td>\n",
       "      <td>1</td>\n",
       "      <td>3</td>\n",
       "      <td>3</td>\n",
       "      <td>2</td>\n",
       "    </tr>\n",
       "  </tbody>\n",
       "</table>\n",
       "</div>"
      ],
      "text/plain": [
       "        Education Qualification  Gender  Community  Religion  Exservice-men  \\\n",
       "164516                        2       1        4.0         3              1   \n",
       "210856                        1       1        2.0         1              2   \n",
       "159709                        3       2        4.0         3              2   \n",
       "97048                         3       1        4.0         1              1   \n",
       "86510                         1       2        1.0         4              2   \n",
       "\n",
       "        Disability  Sports  Annual-Percentage  Income  India  \n",
       "164516           1       1                  3       3      1  \n",
       "210856           1       1                  3       3      2  \n",
       "159709           2       2                  2       2      2  \n",
       "97048            1       1                  4       2      2  \n",
       "86510            1       1                  3       3      2  "
      ]
     },
     "execution_count": 30,
     "metadata": {},
     "output_type": "execute_result"
    }
   ],
   "source": [
    "x_train.head()"
   ]
  },
  {
   "cell_type": "code",
   "execution_count": 31,
   "id": "81bb72fd",
   "metadata": {},
   "outputs": [
    {
     "data": {
      "text/plain": [
       "Index(['Education Qualification', 'Gender', 'Community', 'Religion',\n",
       "       'Exservice-men', 'Disability', 'Sports', 'Annual-Percentage', 'Income',\n",
       "       'India'],\n",
       "      dtype='object')"
      ]
     },
     "execution_count": 31,
     "metadata": {},
     "output_type": "execute_result"
    }
   ],
   "source": [
    "x_train.columns"
   ]
  },
  {
   "cell_type": "code",
   "execution_count": 32,
   "id": "9d2a0146",
   "metadata": {},
   "outputs": [
    {
     "data": {
      "text/html": [
       "<div>\n",
       "<style scoped>\n",
       "    .dataframe tbody tr th:only-of-type {\n",
       "        vertical-align: middle;\n",
       "    }\n",
       "\n",
       "    .dataframe tbody tr th {\n",
       "        vertical-align: top;\n",
       "    }\n",
       "\n",
       "    .dataframe thead th {\n",
       "        text-align: right;\n",
       "    }\n",
       "</style>\n",
       "<table border=\"1\" class=\"dataframe\">\n",
       "  <thead>\n",
       "    <tr style=\"text-align: right;\">\n",
       "      <th></th>\n",
       "      <th>Outcome</th>\n",
       "    </tr>\n",
       "  </thead>\n",
       "  <tbody>\n",
       "    <tr>\n",
       "      <th>164516</th>\n",
       "      <td>0</td>\n",
       "    </tr>\n",
       "    <tr>\n",
       "      <th>210856</th>\n",
       "      <td>0</td>\n",
       "    </tr>\n",
       "    <tr>\n",
       "      <th>159709</th>\n",
       "      <td>0</td>\n",
       "    </tr>\n",
       "    <tr>\n",
       "      <th>97048</th>\n",
       "      <td>0</td>\n",
       "    </tr>\n",
       "    <tr>\n",
       "      <th>86510</th>\n",
       "      <td>0</td>\n",
       "    </tr>\n",
       "  </tbody>\n",
       "</table>\n",
       "</div>"
      ],
      "text/plain": [
       "        Outcome\n",
       "164516        0\n",
       "210856        0\n",
       "159709        0\n",
       "97048         0\n",
       "86510         0"
      ]
     },
     "execution_count": 32,
     "metadata": {},
     "output_type": "execute_result"
    }
   ],
   "source": [
    "y_train.head()"
   ]
  },
  {
   "cell_type": "code",
   "execution_count": 33,
   "id": "0d510d96",
   "metadata": {},
   "outputs": [
    {
     "name": "stdout",
     "output_type": "stream",
     "text": [
      "<class 'pandas.core.frame.DataFrame'>\n",
      "RangeIndex: 245760 entries, 0 to 245759\n",
      "Data columns (total 12 columns):\n",
      " #   Column                   Non-Null Count   Dtype \n",
      "---  ------                   --------------   ----- \n",
      " 0   Name                     245760 non-null  object\n",
      " 1   Education Qualification  245760 non-null  object\n",
      " 2   Gender                   245760 non-null  object\n",
      " 3   Community                245760 non-null  object\n",
      " 4   Religion                 245760 non-null  object\n",
      " 5   Exservice-men            245760 non-null  object\n",
      " 6   Disability               245760 non-null  object\n",
      " 7   Sports                   245760 non-null  object\n",
      " 8   Annual-Percentage        245760 non-null  object\n",
      " 9   Income                   245760 non-null  object\n",
      " 10  India                    245760 non-null  object\n",
      " 11  Outcome                  245760 non-null  int64 \n",
      "dtypes: int64(1), object(11)\n",
      "memory usage: 22.5+ MB\n"
     ]
    }
   ],
   "source": [
    "df2.info()"
   ]
  },
  {
   "cell_type": "code",
   "execution_count": 34,
   "id": "a73526e9",
   "metadata": {},
   "outputs": [
    {
     "data": {
      "text/plain": [
       "Index(['Name', 'Education Qualification', 'Gender', 'Community', 'Religion',\n",
       "       'Exservice-men', 'Disability', 'Sports', 'Annual-Percentage', 'Income',\n",
       "       'India', 'Outcome'],\n",
       "      dtype='object')"
      ]
     },
     "execution_count": 34,
     "metadata": {},
     "output_type": "execute_result"
    }
   ],
   "source": [
    "df2.columns"
   ]
  }
 ],
 "metadata": {
  "kernelspec": {
   "display_name": "Python 3",
   "language": "python",
   "name": "python3"
  },
  "language_info": {
   "codemirror_mode": {
    "name": "ipython",
    "version": 3
   },
   "file_extension": ".py",
   "mimetype": "text/x-python",
   "name": "python",
   "nbconvert_exporter": "python",
   "pygments_lexer": "ipython3",
   "version": "3.12.3"
  }
 },
 "nbformat": 4,
 "nbformat_minor": 5
}
